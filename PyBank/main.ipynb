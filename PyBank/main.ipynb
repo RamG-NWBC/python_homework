{
 "cells": [
  {
   "cell_type": "code",
   "execution_count": 16,
   "metadata": {},
   "outputs": [
    {
     "name": "stdout",
     "output_type": "stream",
     "text": [
      "['Date', 'Profit/Losses']\n",
      "Total months: 86\n",
      "Net total: 38382578\n",
      "Average change: 7803.476744186047\n",
      "Greatest increase in profits: Feb-2012 1170593\n",
      "Greatest decrease in losses: Sep-2013 -1196225\n"
     ]
    }
   ],
   "source": [
    "# Import the pathlib and csv library\n",
    "from pathlib import Path\n",
    "import csv\n",
    "\n",
    "# Set the file path\n",
    "csvpath = Path('Resources/budget_data.csv')\n",
    "\n",
    "# Initialize list of records\n",
    "records = []\n",
    "\n",
    "\n",
    "\n",
    "# Open the csv file as an object\n",
    "csvfile = open(csvpath, 'r')\n",
    "\n",
    "    # Pass in the csv file to the csv.reader() function\n",
    "    # (with ',' as the delmiter/separator) and return the csvreader object\n",
    "csvreader = csv.reader(csvfile, delimiter=',')\n",
    "    \n",
    "# Read the header row first (skip this step if there is no header)\n",
    "csv_header = next(csvreader)\n",
    "    # Print the header\n",
    "print(csv_header)\n",
    "    \n",
    "            \n",
    "# Initialize variables\n",
    "total_months = 0\n",
    "net_total = 0\n",
    "avg_change = 0\n",
    "max_profit = {\"date\": \"\", \"amount\": 0}\n",
    "min_loss = {\"date\": \"\", \"amount\": 0}\n",
    "prev_profit = 0\n",
    "\n",
    "# Read each row of data\n",
    "for row in csvreader:\n",
    "    # Increment the total number of months\n",
    "    total_months += 1\n",
    "    \n",
    "    # Get the profit/loss value and convert it to a number\n",
    "    profit = int(row[1])\n",
    "    \n",
    "    # Add the profit/loss value to the net total\n",
    "    net_total += profit\n",
    "    \n",
    "    # Calculate the change from the previous month\n",
    "    change = profit - prev_profit\n",
    "    \n",
    "    # Add the change to the average change\n",
    "    avg_change += change\n",
    "    \n",
    "    # Update the previous profit value\n",
    "    prev_profit = profit\n",
    "    \n",
    "    # Check if this is the greatest increase in profits\n",
    "    if profit > max_profit[\"amount\"]:\n",
    "        max_profit[\"date\"] = row[0]\n",
    "        max_profit[\"amount\"] = profit\n",
    "        \n",
    "    # Check if this is the greatest decrease in losses\n",
    "    if profit < min_loss[\"amount\"]:\n",
    "        min_loss[\"date\"] = row[0]\n",
    "        min_loss[\"amount\"] = profit\n",
    "\n",
    "# Calculate the average change\n",
    "try:\n",
    "    avg_change /= total_months\n",
    "except ZeroDivisionError:\n",
    "    #set the average change to 0 if there are no months\n",
    "    avg_change =0\n",
    "\n",
    "\n",
    "# Print the results\n",
    "print(\"Total months:\", total_months)\n",
    "print(\"Net total:\", net_total)\n",
    "print(\"Average change:\", avg_change)\n",
    "print(\"Greatest increase in profits:\", max_profit[\"date\"], max_profit[\"amount\"])\n",
    "print(\"Greatest decrease in losses:\", min_loss[\"date\"], min_loss[\"amount\"])"
   ]
  },
  {
   "cell_type": "code",
   "execution_count": 10,
   "metadata": {},
   "outputs": [
    {
     "ename": "ValueError",
     "evalue": "I/O operation on closed file.",
     "output_type": "error",
     "traceback": [
      "\u001b[1;31m---------------------------------------------------------------------------\u001b[0m",
      "\u001b[1;31mValueError\u001b[0m                                Traceback (most recent call last)",
      "\u001b[1;32m<ipython-input-10-1409b0ab25b1>\u001b[0m in \u001b[0;36m<module>\u001b[1;34m\u001b[0m\n\u001b[0;32m      1\u001b[0m \u001b[1;31m# Read each row of data\u001b[0m\u001b[1;33m\u001b[0m\u001b[1;33m\u001b[0m\u001b[1;33m\u001b[0m\u001b[0m\n\u001b[1;32m----> 2\u001b[1;33m \u001b[1;32mfor\u001b[0m \u001b[0mrow\u001b[0m \u001b[1;32min\u001b[0m \u001b[0mcsvreader\u001b[0m\u001b[1;33m:\u001b[0m\u001b[1;33m\u001b[0m\u001b[1;33m\u001b[0m\u001b[0m\n\u001b[0m\u001b[0;32m      3\u001b[0m     \u001b[1;31m# Increment the total number of months\u001b[0m\u001b[1;33m\u001b[0m\u001b[1;33m\u001b[0m\u001b[1;33m\u001b[0m\u001b[0m\n\u001b[0;32m      4\u001b[0m     \u001b[0mtotal_months\u001b[0m \u001b[1;33m+=\u001b[0m \u001b[1;36m1\u001b[0m\u001b[1;33m\u001b[0m\u001b[1;33m\u001b[0m\u001b[0m\n\u001b[0;32m      5\u001b[0m \u001b[1;33m\u001b[0m\u001b[0m\n",
      "\u001b[1;31mValueError\u001b[0m: I/O operation on closed file."
     ]
    }
   ],
   "source": []
  },
  {
   "cell_type": "code",
   "execution_count": null,
   "metadata": {},
   "outputs": [],
   "source": []
  },
  {
   "cell_type": "code",
   "execution_count": null,
   "metadata": {},
   "outputs": [],
   "source": []
  }
 ],
 "metadata": {
  "kernelspec": {
   "display_name": "Python 3",
   "language": "python",
   "name": "python3"
  },
  "language_info": {
   "codemirror_mode": {
    "name": "ipython",
    "version": 3
   },
   "file_extension": ".py",
   "mimetype": "text/x-python",
   "name": "python",
   "nbconvert_exporter": "python",
   "pygments_lexer": "ipython3",
   "version": "3.7.6"
  }
 },
 "nbformat": 4,
 "nbformat_minor": 4
}
