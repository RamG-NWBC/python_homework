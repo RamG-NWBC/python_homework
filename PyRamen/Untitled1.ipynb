{
 "cells": [
  {
   "cell_type": "code",
   "execution_count": 2,
   "metadata": {},
   "outputs": [
    {
     "name": "stdout",
     "output_type": "stream",
     "text": [
      "[['edamame', 'appetizers', 'boiled soybeans, maldon sea salt', '4', '1'], ['house salad', 'appetizers', 'mixed greens, cherry tomatoes, cucumber, house ginger dressing', '4', '2'], ['cucumber sunomono salad', 'appetizers', 'cucumber, ponzu dressing, pickled ginger sproud, sesame seeds', '5', '2'], ['hiyashi wakame seaweed salad', 'appetizers', 'sweet soy-marinated wakame seaweed threads, pickled ginger sprout, sesame seeds', '5', '2'], ['agedashi tofu', 'appetizers', 'tempura battered tofu, katsuobushi, tsuyu broth, scallions', '5', '2'], ['hiyayakko tofu', 'appetizers', 'chilled soft tofu, house shoyu, katsuobushi, ginger, scallions', '5', '2'], ['pork floss bao', 'appetizers', 'two steamed buns, minced lean slow braised niman, ranch pork belly, cucumbers, sriracha mayo', '4', '2'], ['kakuni bao', 'appetizers', 'two steamed buns, chopped fatty slow braised niman ranch pork belly, cucumbers, house bao sauce', '6', '3'], ['edamame fried gyoza (vegan)', 'appetizers', 'six crispy fried edamame and cabbage pot stickers; ponzu rayu dipping sauce', '6', '3'], ['fried gyoza', 'appetizers', 'six cripsy fried pork and vegetable pot stickers; ponzu rayu dipping sauce', '6', '6']]\n"
     ]
    }
   ],
   "source": [
    "# -*- coding: UTF-8 -*-\n",
    "\"\"\"PyRamen Homework Starter Modified by Ram Gollakota\"\"\"\n",
    "# -*- coding: UTF-8 -*-\n",
    "\"\"\"PyRamen Homework Starter Modified by Ram Gollakota\"\"\"\n",
    "\n",
    "\n",
    "\n",
    "# @TODO: Import libraries\n",
    "import csv\n",
    "from pathlib import Path\n",
    "\n",
    "# @TODO: Set file paths for menu_data.csv and sales_data.csv\n",
    "menu_filepath = Path('Resources/menu_data.csv')\n",
    "sales_filepath = Path('Resources/sales_data.csv')\n",
    "\n",
    "# Print file paths to verify access to files\n",
    "#print(f'menu_filepath: {menu_filepath}')\n",
    "#print(f'sales_filepath: {sales_filepath}')\n",
    "\n",
    "# @TODO: Initialize list objects to hold our menu and sales data\n",
    "menu_list = []\n",
    "sales = []\n",
    "\n",
    "\n",
    "\n",
    "# @TODO: Read in the menu data into the menu list\n",
    "\n",
    "# Open the menu csv file as an object\n",
    "\n",
    "with open(menu_filepath, 'r') as menu:\n",
    "  # Create a reader object\n",
    "    reader_menu = csv.reader(menu)\n",
    "    #skip the header row\n",
    "    next(reader_menu)\n",
    "  \n",
    "  # Iterate over the rows\n",
    "    for row in reader_menu:\n",
    "        # append menu\n",
    "        menu_list.append(row)\n",
    "       \n",
    "print(menu_list[:10])\n"
   ]
  },
  {
   "cell_type": "code",
   "execution_count": 3,
   "metadata": {},
   "outputs": [
    {
     "name": "stdout",
     "output_type": "stream",
     "text": [
      "['1,01-01-2017,7437926611570799,1,spicy miso ramen\\n', '2,01-01-2017,7437926611570799,1,spicy miso ramen\\n', '3,01-01-2017,8421920068932819,3,tori paitan ramen\\n', '4,01-01-2017,8421920068932819,3,tori paitan ramen\\n', '5,01-01-2017,4787310681569648,1,truffle butter ramen\\n', '6,01-01-2017,4787310681569648,1,truffle butter ramen\\n', '7,01-01-2017,8252818705821725,1,tonkotsu ramen\\n', '8,01-01-2017,8252818705821725,1,tonkotsu ramen\\n', '9,01-01-2017,3119034881407323,1,vegetarian spicy miso\\n', '10,01-01-2017,3119034881407323,1,vegetarian spicy miso\\n']\n"
     ]
    }
   ],
   "source": [
    "\n",
    "\n",
    "# @TODO: Read in the sales data into the sales list\n",
    "\n",
    "with open(sales_filepath, 'r') as sales_file:\n",
    "  # Create a reader object\n",
    "    reader_sales = csv.reader(sales_file)\n",
    "    #skip the header row\n",
    "    next(reader_sales)\n",
    "  # Iterate over the rows\n",
    "    for row in (sales_file):\n",
    "    # append to sales\n",
    "        sales.append(row)\n",
    "print(sales[:10])\n",
    "    \n",
    "   "
   ]
  },
  {
   "cell_type": "code",
   "execution_count": 8,
   "metadata": {},
   "outputs": [
    {
     "ename": "ValueError",
     "evalue": "too many values to unpack (expected 5)",
     "output_type": "error",
     "traceback": [
      "\u001b[1;31m---------------------------------------------------------------------------\u001b[0m",
      "\u001b[1;31mValueError\u001b[0m                                Traceback (most recent call last)",
      "\u001b[1;32m<ipython-input-8-7e577c53f9b0>\u001b[0m in \u001b[0;36m<module>\u001b[1;34m\u001b[0m\n\u001b[0;32m     11\u001b[0m   \u001b[1;31m# Line_Item_ID,Date,Credit_Card_Number,Quantity,Menu_Item\u001b[0m\u001b[1;33m\u001b[0m\u001b[1;33m\u001b[0m\u001b[1;33m\u001b[0m\u001b[0m\n\u001b[0;32m     12\u001b[0m   \u001b[1;31m# Initialize sales data variables\u001b[0m\u001b[1;33m\u001b[0m\u001b[1;33m\u001b[0m\u001b[1;33m\u001b[0m\u001b[0m\n\u001b[1;32m---> 13\u001b[1;33m   \u001b[0mline_item_id\u001b[0m\u001b[1;33m,\u001b[0m \u001b[0mdate\u001b[0m\u001b[1;33m,\u001b[0m \u001b[0mcredit_card_number\u001b[0m\u001b[1;33m,\u001b[0m \u001b[0mquantity\u001b[0m\u001b[1;33m,\u001b[0m \u001b[0mmenu_item\u001b[0m \u001b[1;33m=\u001b[0m \u001b[0mrow\u001b[0m\u001b[1;33m\u001b[0m\u001b[1;33m\u001b[0m\u001b[0m\n\u001b[0m",
      "\u001b[1;31mValueError\u001b[0m: too many values to unpack (expected 5)"
     ]
    }
   ],
   "source": [
    "\n",
    "# @TODO: Initialize dict object to hold our key-value pairs of items and metrics\n",
    "report = {}\n",
    "\n",
    "# Initialize a row counter variable\n",
    "row_count = 0\n",
    "\n",
    "# @TODO: Loop over every row in the sales list object\n",
    "\n",
    "# Loop over every row in the sales list object\n",
    "for row in sales:\n",
    "  # Line_Item_ID,Date,Credit_Card_Number,Quantity,Menu_Item\n",
    "  # Initialize sales data variables\n",
    "  line_item_id, date, credit_card_number, quantity, menu_item = row"
   ]
  },
  {
   "cell_type": "code",
   "execution_count": null,
   "metadata": {},
   "outputs": [],
   "source": []
  }
 ],
 "metadata": {
  "kernelspec": {
   "display_name": "Python 3",
   "language": "python",
   "name": "python3"
  },
  "language_info": {
   "codemirror_mode": {
    "name": "ipython",
    "version": 3
   },
   "file_extension": ".py",
   "mimetype": "text/x-python",
   "name": "python",
   "nbconvert_exporter": "python",
   "pygments_lexer": "ipython3",
   "version": "3.7.6"
  }
 },
 "nbformat": 4,
 "nbformat_minor": 4
}
